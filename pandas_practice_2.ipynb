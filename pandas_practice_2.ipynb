{
 "cells": [
  {
   "cell_type": "code",
   "id": "initial_id",
   "metadata": {
    "collapsed": true,
    "ExecuteTime": {
     "end_time": "2024-10-26T09:11:00.967711Z",
     "start_time": "2024-10-26T09:11:00.956109Z"
    }
   },
   "source": "import pandas as pd",
   "outputs": [],
   "execution_count": 33
  },
  {
   "metadata": {},
   "cell_type": "markdown",
   "source": "Créer un dataframe à partir d'un dictionnaire",
   "id": "17725573fd58bbac"
  },
  {
   "metadata": {
    "ExecuteTime": {
     "end_time": "2024-10-26T09:11:00.998804Z",
     "start_time": "2024-10-26T09:11:00.986255Z"
    }
   },
   "cell_type": "code",
   "source": [
    "data_dict = {\n",
    "    'first_name' : ['hassane','sara','francis','laura'],\n",
    "    'last_name' : ['mamane','tamami','eustler','chavez'],\n",
    "    'email' : ['hassanemmn@gmail.com','sara@gmail.com','francisestl@gmail.com','laura@gmail.com'],\n",
    "    'date_of_birth':['16/02/2001','21/03/2001','30/07/2002','14/10/2003'],\n",
    "    'answer' : [True,False,False,True],\n",
    "}\n",
    "df = pd.DataFrame(data_dict)\n",
    "df\n",
    "    \n"
   ],
   "id": "4e2f0dbc00957df2",
   "outputs": [
    {
     "data": {
      "text/plain": [
       "  first_name last_name                  email date_of_birth  answer\n",
       "0    hassane    mamane   hassanemmn@gmail.com    16/02/2001    True\n",
       "1       sara    tamami         sara@gmail.com    21/03/2001   False\n",
       "2    francis   eustler  francisestl@gmail.com    30/07/2002   False\n",
       "3      laura    chavez        laura@gmail.com    14/10/2003    True"
      ],
      "text/html": [
       "<div>\n",
       "<style scoped>\n",
       "    .dataframe tbody tr th:only-of-type {\n",
       "        vertical-align: middle;\n",
       "    }\n",
       "\n",
       "    .dataframe tbody tr th {\n",
       "        vertical-align: top;\n",
       "    }\n",
       "\n",
       "    .dataframe thead th {\n",
       "        text-align: right;\n",
       "    }\n",
       "</style>\n",
       "<table border=\"1\" class=\"dataframe\">\n",
       "  <thead>\n",
       "    <tr style=\"text-align: right;\">\n",
       "      <th></th>\n",
       "      <th>first_name</th>\n",
       "      <th>last_name</th>\n",
       "      <th>email</th>\n",
       "      <th>date_of_birth</th>\n",
       "      <th>answer</th>\n",
       "    </tr>\n",
       "  </thead>\n",
       "  <tbody>\n",
       "    <tr>\n",
       "      <th>0</th>\n",
       "      <td>hassane</td>\n",
       "      <td>mamane</td>\n",
       "      <td>hassanemmn@gmail.com</td>\n",
       "      <td>16/02/2001</td>\n",
       "      <td>True</td>\n",
       "    </tr>\n",
       "    <tr>\n",
       "      <th>1</th>\n",
       "      <td>sara</td>\n",
       "      <td>tamami</td>\n",
       "      <td>sara@gmail.com</td>\n",
       "      <td>21/03/2001</td>\n",
       "      <td>False</td>\n",
       "    </tr>\n",
       "    <tr>\n",
       "      <th>2</th>\n",
       "      <td>francis</td>\n",
       "      <td>eustler</td>\n",
       "      <td>francisestl@gmail.com</td>\n",
       "      <td>30/07/2002</td>\n",
       "      <td>False</td>\n",
       "    </tr>\n",
       "    <tr>\n",
       "      <th>3</th>\n",
       "      <td>laura</td>\n",
       "      <td>chavez</td>\n",
       "      <td>laura@gmail.com</td>\n",
       "      <td>14/10/2003</td>\n",
       "      <td>True</td>\n",
       "    </tr>\n",
       "  </tbody>\n",
       "</table>\n",
       "</div>"
      ]
     },
     "execution_count": 34,
     "metadata": {},
     "output_type": "execute_result"
    }
   ],
   "execution_count": 34
  },
  {
   "metadata": {},
   "cell_type": "markdown",
   "source": "Lire une colonne",
   "id": "3a86dfeb4345ccd5"
  },
  {
   "metadata": {
    "ExecuteTime": {
     "end_time": "2024-10-26T09:11:01.076702Z",
     "start_time": "2024-10-26T09:11:01.063656Z"
    }
   },
   "cell_type": "code",
   "source": "df['date_of_birth']",
   "id": "74baa584fab4fb7c",
   "outputs": [
    {
     "data": {
      "text/plain": [
       "0    16/02/2001\n",
       "1    21/03/2001\n",
       "2    30/07/2002\n",
       "3    14/10/2003\n",
       "Name: date_of_birth, dtype: object"
      ]
     },
     "execution_count": 35,
     "metadata": {},
     "output_type": "execute_result"
    }
   ],
   "execution_count": 35
  },
  {
   "metadata": {},
   "cell_type": "markdown",
   "source": "Lire plusieurs colonnes",
   "id": "5d9d6174f6f58ed3"
  },
  {
   "metadata": {
    "ExecuteTime": {
     "end_time": "2024-10-26T09:11:01.201671Z",
     "start_time": "2024-10-26T09:11:01.187604Z"
    }
   },
   "cell_type": "code",
   "source": "df[['first_name','answer']]",
   "id": "13d5f6fcfd499c5d",
   "outputs": [
    {
     "data": {
      "text/plain": [
       "  first_name  answer\n",
       "0    hassane    True\n",
       "1       sara   False\n",
       "2    francis   False\n",
       "3      laura    True"
      ],
      "text/html": [
       "<div>\n",
       "<style scoped>\n",
       "    .dataframe tbody tr th:only-of-type {\n",
       "        vertical-align: middle;\n",
       "    }\n",
       "\n",
       "    .dataframe tbody tr th {\n",
       "        vertical-align: top;\n",
       "    }\n",
       "\n",
       "    .dataframe thead th {\n",
       "        text-align: right;\n",
       "    }\n",
       "</style>\n",
       "<table border=\"1\" class=\"dataframe\">\n",
       "  <thead>\n",
       "    <tr style=\"text-align: right;\">\n",
       "      <th></th>\n",
       "      <th>first_name</th>\n",
       "      <th>answer</th>\n",
       "    </tr>\n",
       "  </thead>\n",
       "  <tbody>\n",
       "    <tr>\n",
       "      <th>0</th>\n",
       "      <td>hassane</td>\n",
       "      <td>True</td>\n",
       "    </tr>\n",
       "    <tr>\n",
       "      <th>1</th>\n",
       "      <td>sara</td>\n",
       "      <td>False</td>\n",
       "    </tr>\n",
       "    <tr>\n",
       "      <th>2</th>\n",
       "      <td>francis</td>\n",
       "      <td>False</td>\n",
       "    </tr>\n",
       "    <tr>\n",
       "      <th>3</th>\n",
       "      <td>laura</td>\n",
       "      <td>True</td>\n",
       "    </tr>\n",
       "  </tbody>\n",
       "</table>\n",
       "</div>"
      ]
     },
     "execution_count": 36,
     "metadata": {},
     "output_type": "execute_result"
    }
   ],
   "execution_count": 36
  },
  {
   "metadata": {},
   "cell_type": "markdown",
   "source": "Voir les colonnes",
   "id": "926f8a5b52475a83"
  },
  {
   "metadata": {
    "ExecuteTime": {
     "end_time": "2024-10-26T09:11:01.357173Z",
     "start_time": "2024-10-26T09:11:01.344936Z"
    }
   },
   "cell_type": "code",
   "source": "df.columns",
   "id": "3688dcd5a80671c2",
   "outputs": [
    {
     "data": {
      "text/plain": [
       "Index(['first_name', 'last_name', 'email', 'date_of_birth', 'answer'], dtype='object')"
      ]
     },
     "execution_count": 37,
     "metadata": {},
     "output_type": "execute_result"
    }
   ],
   "execution_count": 37
  },
  {
   "metadata": {},
   "cell_type": "markdown",
   "source": "Voir une ligne",
   "id": "22a854964849b6ba"
  },
  {
   "metadata": {
    "ExecuteTime": {
     "end_time": "2024-10-26T09:11:01.636458Z",
     "start_time": "2024-10-26T09:11:01.610761Z"
    }
   },
   "cell_type": "code",
   "source": "df.iloc[1]",
   "id": "4e0de1163a579360",
   "outputs": [
    {
     "data": {
      "text/plain": [
       "first_name                 sara\n",
       "last_name                tamami\n",
       "email            sara@gmail.com\n",
       "date_of_birth        21/03/2001\n",
       "answer                    False\n",
       "Name: 1, dtype: object"
      ]
     },
     "execution_count": 38,
     "metadata": {},
     "output_type": "execute_result"
    }
   ],
   "execution_count": 38
  },
  {
   "metadata": {},
   "cell_type": "markdown",
   "source": "Voir plusieurs listes",
   "id": "a88cf2039af8e9e7"
  },
  {
   "metadata": {
    "ExecuteTime": {
     "end_time": "2024-10-26T09:11:01.777439Z",
     "start_time": "2024-10-26T09:11:01.763538Z"
    }
   },
   "cell_type": "code",
   "source": "df.iloc[[1,3]]",
   "id": "289654ae8d547e70",
   "outputs": [
    {
     "data": {
      "text/plain": [
       "  first_name last_name            email date_of_birth  answer\n",
       "1       sara    tamami   sara@gmail.com    21/03/2001   False\n",
       "3      laura    chavez  laura@gmail.com    14/10/2003    True"
      ],
      "text/html": [
       "<div>\n",
       "<style scoped>\n",
       "    .dataframe tbody tr th:only-of-type {\n",
       "        vertical-align: middle;\n",
       "    }\n",
       "\n",
       "    .dataframe tbody tr th {\n",
       "        vertical-align: top;\n",
       "    }\n",
       "\n",
       "    .dataframe thead th {\n",
       "        text-align: right;\n",
       "    }\n",
       "</style>\n",
       "<table border=\"1\" class=\"dataframe\">\n",
       "  <thead>\n",
       "    <tr style=\"text-align: right;\">\n",
       "      <th></th>\n",
       "      <th>first_name</th>\n",
       "      <th>last_name</th>\n",
       "      <th>email</th>\n",
       "      <th>date_of_birth</th>\n",
       "      <th>answer</th>\n",
       "    </tr>\n",
       "  </thead>\n",
       "  <tbody>\n",
       "    <tr>\n",
       "      <th>1</th>\n",
       "      <td>sara</td>\n",
       "      <td>tamami</td>\n",
       "      <td>sara@gmail.com</td>\n",
       "      <td>21/03/2001</td>\n",
       "      <td>False</td>\n",
       "    </tr>\n",
       "    <tr>\n",
       "      <th>3</th>\n",
       "      <td>laura</td>\n",
       "      <td>chavez</td>\n",
       "      <td>laura@gmail.com</td>\n",
       "      <td>14/10/2003</td>\n",
       "      <td>True</td>\n",
       "    </tr>\n",
       "  </tbody>\n",
       "</table>\n",
       "</div>"
      ]
     },
     "execution_count": 39,
     "metadata": {},
     "output_type": "execute_result"
    }
   ],
   "execution_count": 39
  },
  {
   "metadata": {},
   "cell_type": "markdown",
   "source": "Voir des lignes et des colonnes",
   "id": "8c51d7a41989c315"
  },
  {
   "metadata": {
    "ExecuteTime": {
     "end_time": "2024-10-26T09:11:01.904053Z",
     "start_time": "2024-10-26T09:11:01.890834Z"
    }
   },
   "cell_type": "code",
   "source": "df.iloc[[1,3],[0,2]]",
   "id": "c6621d17555a075a",
   "outputs": [
    {
     "data": {
      "text/plain": [
       "  first_name            email\n",
       "1       sara   sara@gmail.com\n",
       "3      laura  laura@gmail.com"
      ],
      "text/html": [
       "<div>\n",
       "<style scoped>\n",
       "    .dataframe tbody tr th:only-of-type {\n",
       "        vertical-align: middle;\n",
       "    }\n",
       "\n",
       "    .dataframe tbody tr th {\n",
       "        vertical-align: top;\n",
       "    }\n",
       "\n",
       "    .dataframe thead th {\n",
       "        text-align: right;\n",
       "    }\n",
       "</style>\n",
       "<table border=\"1\" class=\"dataframe\">\n",
       "  <thead>\n",
       "    <tr style=\"text-align: right;\">\n",
       "      <th></th>\n",
       "      <th>first_name</th>\n",
       "      <th>email</th>\n",
       "    </tr>\n",
       "  </thead>\n",
       "  <tbody>\n",
       "    <tr>\n",
       "      <th>1</th>\n",
       "      <td>sara</td>\n",
       "      <td>sara@gmail.com</td>\n",
       "    </tr>\n",
       "    <tr>\n",
       "      <th>3</th>\n",
       "      <td>laura</td>\n",
       "      <td>laura@gmail.com</td>\n",
       "    </tr>\n",
       "  </tbody>\n",
       "</table>\n",
       "</div>"
      ]
     },
     "execution_count": 40,
     "metadata": {},
     "output_type": "execute_result"
    }
   ],
   "execution_count": 40
  },
  {
   "metadata": {},
   "cell_type": "markdown",
   "source": "Avec loc, on peut utiliser les labels",
   "id": "c88ac91668b04e40"
  },
  {
   "metadata": {
    "ExecuteTime": {
     "end_time": "2024-10-26T09:11:02.214705Z",
     "start_time": "2024-10-26T09:11:02.187662Z"
    }
   },
   "cell_type": "code",
   "source": "df.loc[[1,3],['first_name', 'last_name', 'email']]",
   "id": "4fe695051970a025",
   "outputs": [
    {
     "data": {
      "text/plain": [
       "  first_name last_name            email\n",
       "1       sara    tamami   sara@gmail.com\n",
       "3      laura    chavez  laura@gmail.com"
      ],
      "text/html": [
       "<div>\n",
       "<style scoped>\n",
       "    .dataframe tbody tr th:only-of-type {\n",
       "        vertical-align: middle;\n",
       "    }\n",
       "\n",
       "    .dataframe tbody tr th {\n",
       "        vertical-align: top;\n",
       "    }\n",
       "\n",
       "    .dataframe thead th {\n",
       "        text-align: right;\n",
       "    }\n",
       "</style>\n",
       "<table border=\"1\" class=\"dataframe\">\n",
       "  <thead>\n",
       "    <tr style=\"text-align: right;\">\n",
       "      <th></th>\n",
       "      <th>first_name</th>\n",
       "      <th>last_name</th>\n",
       "      <th>email</th>\n",
       "    </tr>\n",
       "  </thead>\n",
       "  <tbody>\n",
       "    <tr>\n",
       "      <th>1</th>\n",
       "      <td>sara</td>\n",
       "      <td>tamami</td>\n",
       "      <td>sara@gmail.com</td>\n",
       "    </tr>\n",
       "    <tr>\n",
       "      <th>3</th>\n",
       "      <td>laura</td>\n",
       "      <td>chavez</td>\n",
       "      <td>laura@gmail.com</td>\n",
       "    </tr>\n",
       "  </tbody>\n",
       "</table>\n",
       "</div>"
      ]
     },
     "execution_count": 41,
     "metadata": {},
     "output_type": "execute_result"
    }
   ],
   "execution_count": 41
  },
  {
   "metadata": {},
   "cell_type": "markdown",
   "source": "Compter les valeurs d'une colonne",
   "id": "b18a4b866baed418"
  },
  {
   "metadata": {
    "ExecuteTime": {
     "end_time": "2024-10-26T09:11:02.354856Z",
     "start_time": "2024-10-26T09:11:02.343340Z"
    }
   },
   "cell_type": "code",
   "source": "df['answer'].value_counts()",
   "id": "519165c0009b7191",
   "outputs": [
    {
     "data": {
      "text/plain": [
       "answer\n",
       "True     2\n",
       "False    2\n",
       "Name: count, dtype: int64"
      ]
     },
     "execution_count": 42,
     "metadata": {},
     "output_type": "execute_result"
    }
   ],
   "execution_count": 42
  },
  {
   "metadata": {
    "ExecuteTime": {
     "end_time": "2024-10-26T09:12:14.982482Z",
     "start_time": "2024-10-26T09:12:14.964372Z"
    }
   },
   "cell_type": "code",
   "source": "df.loc[:2,'last_name':'answer']",
   "id": "9fe11d3344b76fba",
   "outputs": [
    {
     "data": {
      "text/plain": [
       "  last_name                  email date_of_birth  answer\n",
       "0    mamane   hassanemmn@gmail.com    16/02/2001    True\n",
       "1    tamami         sara@gmail.com    21/03/2001   False\n",
       "2   eustler  francisestl@gmail.com    30/07/2002   False"
      ],
      "text/html": [
       "<div>\n",
       "<style scoped>\n",
       "    .dataframe tbody tr th:only-of-type {\n",
       "        vertical-align: middle;\n",
       "    }\n",
       "\n",
       "    .dataframe tbody tr th {\n",
       "        vertical-align: top;\n",
       "    }\n",
       "\n",
       "    .dataframe thead th {\n",
       "        text-align: right;\n",
       "    }\n",
       "</style>\n",
       "<table border=\"1\" class=\"dataframe\">\n",
       "  <thead>\n",
       "    <tr style=\"text-align: right;\">\n",
       "      <th></th>\n",
       "      <th>last_name</th>\n",
       "      <th>email</th>\n",
       "      <th>date_of_birth</th>\n",
       "      <th>answer</th>\n",
       "    </tr>\n",
       "  </thead>\n",
       "  <tbody>\n",
       "    <tr>\n",
       "      <th>0</th>\n",
       "      <td>mamane</td>\n",
       "      <td>hassanemmn@gmail.com</td>\n",
       "      <td>16/02/2001</td>\n",
       "      <td>True</td>\n",
       "    </tr>\n",
       "    <tr>\n",
       "      <th>1</th>\n",
       "      <td>tamami</td>\n",
       "      <td>sara@gmail.com</td>\n",
       "      <td>21/03/2001</td>\n",
       "      <td>False</td>\n",
       "    </tr>\n",
       "    <tr>\n",
       "      <th>2</th>\n",
       "      <td>eustler</td>\n",
       "      <td>francisestl@gmail.com</td>\n",
       "      <td>30/07/2002</td>\n",
       "      <td>False</td>\n",
       "    </tr>\n",
       "  </tbody>\n",
       "</table>\n",
       "</div>"
      ]
     },
     "execution_count": 45,
     "metadata": {},
     "output_type": "execute_result"
    }
   ],
   "execution_count": 45
  },
  {
   "metadata": {},
   "cell_type": "markdown",
   "source": "Mettre une colonne en index",
   "id": "190568f73d155f01"
  },
  {
   "metadata": {
    "ExecuteTime": {
     "end_time": "2024-10-26T09:27:44.069599Z",
     "start_time": "2024-10-26T09:27:44.041908Z"
    }
   },
   "cell_type": "code",
   "source": "df.set_index('email')",
   "id": "5e326a5464590429",
   "outputs": [
    {
     "data": {
      "text/plain": [
       "                      first_name last_name date_of_birth  answer\n",
       "email                                                           \n",
       "hassanemmn@gmail.com     hassane    mamane    16/02/2001    True\n",
       "sara@gmail.com              sara    tamami    21/03/2001   False\n",
       "francisestl@gmail.com    francis   eustler    30/07/2002   False\n",
       "laura@gmail.com            laura    chavez    14/10/2003    True"
      ],
      "text/html": [
       "<div>\n",
       "<style scoped>\n",
       "    .dataframe tbody tr th:only-of-type {\n",
       "        vertical-align: middle;\n",
       "    }\n",
       "\n",
       "    .dataframe tbody tr th {\n",
       "        vertical-align: top;\n",
       "    }\n",
       "\n",
       "    .dataframe thead th {\n",
       "        text-align: right;\n",
       "    }\n",
       "</style>\n",
       "<table border=\"1\" class=\"dataframe\">\n",
       "  <thead>\n",
       "    <tr style=\"text-align: right;\">\n",
       "      <th></th>\n",
       "      <th>first_name</th>\n",
       "      <th>last_name</th>\n",
       "      <th>date_of_birth</th>\n",
       "      <th>answer</th>\n",
       "    </tr>\n",
       "    <tr>\n",
       "      <th>email</th>\n",
       "      <th></th>\n",
       "      <th></th>\n",
       "      <th></th>\n",
       "      <th></th>\n",
       "    </tr>\n",
       "  </thead>\n",
       "  <tbody>\n",
       "    <tr>\n",
       "      <th>hassanemmn@gmail.com</th>\n",
       "      <td>hassane</td>\n",
       "      <td>mamane</td>\n",
       "      <td>16/02/2001</td>\n",
       "      <td>True</td>\n",
       "    </tr>\n",
       "    <tr>\n",
       "      <th>sara@gmail.com</th>\n",
       "      <td>sara</td>\n",
       "      <td>tamami</td>\n",
       "      <td>21/03/2001</td>\n",
       "      <td>False</td>\n",
       "    </tr>\n",
       "    <tr>\n",
       "      <th>francisestl@gmail.com</th>\n",
       "      <td>francis</td>\n",
       "      <td>eustler</td>\n",
       "      <td>30/07/2002</td>\n",
       "      <td>False</td>\n",
       "    </tr>\n",
       "    <tr>\n",
       "      <th>laura@gmail.com</th>\n",
       "      <td>laura</td>\n",
       "      <td>chavez</td>\n",
       "      <td>14/10/2003</td>\n",
       "      <td>True</td>\n",
       "    </tr>\n",
       "  </tbody>\n",
       "</table>\n",
       "</div>"
      ]
     },
     "execution_count": 46,
     "metadata": {},
     "output_type": "execute_result"
    }
   ],
   "execution_count": 46
  },
  {
   "metadata": {
    "ExecuteTime": {
     "end_time": "2024-10-26T09:28:37.586676Z",
     "start_time": "2024-10-26T09:28:37.567929Z"
    }
   },
   "cell_type": "code",
   "source": "df # il n'a pas vraiment changé",
   "id": "c9ebd3ff76cedf72",
   "outputs": [
    {
     "data": {
      "text/plain": [
       "  first_name last_name                  email date_of_birth  answer\n",
       "0    hassane    mamane   hassanemmn@gmail.com    16/02/2001    True\n",
       "1       sara    tamami         sara@gmail.com    21/03/2001   False\n",
       "2    francis   eustler  francisestl@gmail.com    30/07/2002   False\n",
       "3      laura    chavez        laura@gmail.com    14/10/2003    True"
      ],
      "text/html": [
       "<div>\n",
       "<style scoped>\n",
       "    .dataframe tbody tr th:only-of-type {\n",
       "        vertical-align: middle;\n",
       "    }\n",
       "\n",
       "    .dataframe tbody tr th {\n",
       "        vertical-align: top;\n",
       "    }\n",
       "\n",
       "    .dataframe thead th {\n",
       "        text-align: right;\n",
       "    }\n",
       "</style>\n",
       "<table border=\"1\" class=\"dataframe\">\n",
       "  <thead>\n",
       "    <tr style=\"text-align: right;\">\n",
       "      <th></th>\n",
       "      <th>first_name</th>\n",
       "      <th>last_name</th>\n",
       "      <th>email</th>\n",
       "      <th>date_of_birth</th>\n",
       "      <th>answer</th>\n",
       "    </tr>\n",
       "  </thead>\n",
       "  <tbody>\n",
       "    <tr>\n",
       "      <th>0</th>\n",
       "      <td>hassane</td>\n",
       "      <td>mamane</td>\n",
       "      <td>hassanemmn@gmail.com</td>\n",
       "      <td>16/02/2001</td>\n",
       "      <td>True</td>\n",
       "    </tr>\n",
       "    <tr>\n",
       "      <th>1</th>\n",
       "      <td>sara</td>\n",
       "      <td>tamami</td>\n",
       "      <td>sara@gmail.com</td>\n",
       "      <td>21/03/2001</td>\n",
       "      <td>False</td>\n",
       "    </tr>\n",
       "    <tr>\n",
       "      <th>2</th>\n",
       "      <td>francis</td>\n",
       "      <td>eustler</td>\n",
       "      <td>francisestl@gmail.com</td>\n",
       "      <td>30/07/2002</td>\n",
       "      <td>False</td>\n",
       "    </tr>\n",
       "    <tr>\n",
       "      <th>3</th>\n",
       "      <td>laura</td>\n",
       "      <td>chavez</td>\n",
       "      <td>laura@gmail.com</td>\n",
       "      <td>14/10/2003</td>\n",
       "      <td>True</td>\n",
       "    </tr>\n",
       "  </tbody>\n",
       "</table>\n",
       "</div>"
      ]
     },
     "execution_count": 47,
     "metadata": {},
     "output_type": "execute_result"
    }
   ],
   "execution_count": 47
  },
  {
   "metadata": {},
   "cell_type": "markdown",
   "source": "On peut le changer",
   "id": "d175e55374570f63"
  },
  {
   "metadata": {},
   "cell_type": "code",
   "source": "df.set_index('email', inplace=True)",
   "id": "14ce5997e4768c52",
   "outputs": [],
   "execution_count": null
  },
  {
   "metadata": {
    "ExecuteTime": {
     "end_time": "2024-10-26T09:30:06.421262Z",
     "start_time": "2024-10-26T09:30:06.398736Z"
    }
   },
   "cell_type": "code",
   "source": "df",
   "id": "14ea216d2d6f59a8",
   "outputs": [
    {
     "data": {
      "text/plain": [
       "                      first_name last_name date_of_birth  answer\n",
       "email                                                           \n",
       "hassanemmn@gmail.com     hassane    mamane    16/02/2001    True\n",
       "sara@gmail.com              sara    tamami    21/03/2001   False\n",
       "francisestl@gmail.com    francis   eustler    30/07/2002   False\n",
       "laura@gmail.com            laura    chavez    14/10/2003    True"
      ],
      "text/html": [
       "<div>\n",
       "<style scoped>\n",
       "    .dataframe tbody tr th:only-of-type {\n",
       "        vertical-align: middle;\n",
       "    }\n",
       "\n",
       "    .dataframe tbody tr th {\n",
       "        vertical-align: top;\n",
       "    }\n",
       "\n",
       "    .dataframe thead th {\n",
       "        text-align: right;\n",
       "    }\n",
       "</style>\n",
       "<table border=\"1\" class=\"dataframe\">\n",
       "  <thead>\n",
       "    <tr style=\"text-align: right;\">\n",
       "      <th></th>\n",
       "      <th>first_name</th>\n",
       "      <th>last_name</th>\n",
       "      <th>date_of_birth</th>\n",
       "      <th>answer</th>\n",
       "    </tr>\n",
       "    <tr>\n",
       "      <th>email</th>\n",
       "      <th></th>\n",
       "      <th></th>\n",
       "      <th></th>\n",
       "      <th></th>\n",
       "    </tr>\n",
       "  </thead>\n",
       "  <tbody>\n",
       "    <tr>\n",
       "      <th>hassanemmn@gmail.com</th>\n",
       "      <td>hassane</td>\n",
       "      <td>mamane</td>\n",
       "      <td>16/02/2001</td>\n",
       "      <td>True</td>\n",
       "    </tr>\n",
       "    <tr>\n",
       "      <th>sara@gmail.com</th>\n",
       "      <td>sara</td>\n",
       "      <td>tamami</td>\n",
       "      <td>21/03/2001</td>\n",
       "      <td>False</td>\n",
       "    </tr>\n",
       "    <tr>\n",
       "      <th>francisestl@gmail.com</th>\n",
       "      <td>francis</td>\n",
       "      <td>eustler</td>\n",
       "      <td>30/07/2002</td>\n",
       "      <td>False</td>\n",
       "    </tr>\n",
       "    <tr>\n",
       "      <th>laura@gmail.com</th>\n",
       "      <td>laura</td>\n",
       "      <td>chavez</td>\n",
       "      <td>14/10/2003</td>\n",
       "      <td>True</td>\n",
       "    </tr>\n",
       "  </tbody>\n",
       "</table>\n",
       "</div>"
      ]
     },
     "execution_count": 52,
     "metadata": {},
     "output_type": "execute_result"
    }
   ],
   "execution_count": 52
  },
  {
   "metadata": {
    "ExecuteTime": {
     "end_time": "2024-10-26T09:31:11.896103Z",
     "start_time": "2024-10-26T09:31:11.885318Z"
    }
   },
   "cell_type": "code",
   "source": "df.loc['hassanemmn@gmail.com','first_name':'date_of_birth']",
   "id": "b646247cdd009b2b",
   "outputs": [
    {
     "data": {
      "text/plain": [
       "first_name          hassane\n",
       "last_name            mamane\n",
       "date_of_birth    16/02/2001\n",
       "Name: hassanemmn@gmail.com, dtype: object"
      ]
     },
     "execution_count": 54,
     "metadata": {},
     "output_type": "execute_result"
    }
   ],
   "execution_count": 54
  },
  {
   "metadata": {},
   "cell_type": "markdown",
   "source": "On peut revenir à la normale",
   "id": "e21db303f147c25a"
  },
  {
   "metadata": {
    "ExecuteTime": {
     "end_time": "2024-10-26T09:31:53.800828Z",
     "start_time": "2024-10-26T09:31:53.787677Z"
    }
   },
   "cell_type": "code",
   "source": "df.reset_index(inplace=True)",
   "id": "285c1bdc00062381",
   "outputs": [],
   "execution_count": 55
  },
  {
   "metadata": {
    "ExecuteTime": {
     "end_time": "2024-10-26T09:32:02.000648Z",
     "start_time": "2024-10-26T09:32:01.983691Z"
    }
   },
   "cell_type": "code",
   "source": "df",
   "id": "20841b13f8473402",
   "outputs": [
    {
     "data": {
      "text/plain": [
       "                   email first_name last_name date_of_birth  answer\n",
       "0   hassanemmn@gmail.com    hassane    mamane    16/02/2001    True\n",
       "1         sara@gmail.com       sara    tamami    21/03/2001   False\n",
       "2  francisestl@gmail.com    francis   eustler    30/07/2002   False\n",
       "3        laura@gmail.com      laura    chavez    14/10/2003    True"
      ],
      "text/html": [
       "<div>\n",
       "<style scoped>\n",
       "    .dataframe tbody tr th:only-of-type {\n",
       "        vertical-align: middle;\n",
       "    }\n",
       "\n",
       "    .dataframe tbody tr th {\n",
       "        vertical-align: top;\n",
       "    }\n",
       "\n",
       "    .dataframe thead th {\n",
       "        text-align: right;\n",
       "    }\n",
       "</style>\n",
       "<table border=\"1\" class=\"dataframe\">\n",
       "  <thead>\n",
       "    <tr style=\"text-align: right;\">\n",
       "      <th></th>\n",
       "      <th>email</th>\n",
       "      <th>first_name</th>\n",
       "      <th>last_name</th>\n",
       "      <th>date_of_birth</th>\n",
       "      <th>answer</th>\n",
       "    </tr>\n",
       "  </thead>\n",
       "  <tbody>\n",
       "    <tr>\n",
       "      <th>0</th>\n",
       "      <td>hassanemmn@gmail.com</td>\n",
       "      <td>hassane</td>\n",
       "      <td>mamane</td>\n",
       "      <td>16/02/2001</td>\n",
       "      <td>True</td>\n",
       "    </tr>\n",
       "    <tr>\n",
       "      <th>1</th>\n",
       "      <td>sara@gmail.com</td>\n",
       "      <td>sara</td>\n",
       "      <td>tamami</td>\n",
       "      <td>21/03/2001</td>\n",
       "      <td>False</td>\n",
       "    </tr>\n",
       "    <tr>\n",
       "      <th>2</th>\n",
       "      <td>francisestl@gmail.com</td>\n",
       "      <td>francis</td>\n",
       "      <td>eustler</td>\n",
       "      <td>30/07/2002</td>\n",
       "      <td>False</td>\n",
       "    </tr>\n",
       "    <tr>\n",
       "      <th>3</th>\n",
       "      <td>laura@gmail.com</td>\n",
       "      <td>laura</td>\n",
       "      <td>chavez</td>\n",
       "      <td>14/10/2003</td>\n",
       "      <td>True</td>\n",
       "    </tr>\n",
       "  </tbody>\n",
       "</table>\n",
       "</div>"
      ]
     },
     "execution_count": 56,
     "metadata": {},
     "output_type": "execute_result"
    }
   ],
   "execution_count": 56
  }
 ],
 "metadata": {
  "kernelspec": {
   "display_name": "Python 3",
   "language": "python",
   "name": "python3"
  },
  "language_info": {
   "codemirror_mode": {
    "name": "ipython",
    "version": 2
   },
   "file_extension": ".py",
   "mimetype": "text/x-python",
   "name": "python",
   "nbconvert_exporter": "python",
   "pygments_lexer": "ipython2",
   "version": "2.7.6"
  }
 },
 "nbformat": 4,
 "nbformat_minor": 5
}
